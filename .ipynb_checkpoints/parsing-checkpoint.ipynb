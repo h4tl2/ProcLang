{
 "cells": [
  {
   "cell_type": "code",
   "execution_count": 1,
   "metadata": {},
   "outputs": [
    {
     "ename": "ModuleNotFoundError",
     "evalue": "No module named 'graphviz'",
     "output_type": "error",
     "traceback": [
      "\u001b[0;31m---------------------------------------------------------------------------\u001b[0m",
      "\u001b[0;31mModuleNotFoundError\u001b[0m                       Traceback (most recent call last)",
      "\u001b[0;32m<ipython-input-1-fa41104c51ff>\u001b[0m in \u001b[0;36m<module>\u001b[0;34m()\u001b[0m\n\u001b[0;32m----> 1\u001b[0;31m \u001b[0;32mfrom\u001b[0m \u001b[0mgraphviz\u001b[0m \u001b[0;32mimport\u001b[0m \u001b[0mDigraph\u001b[0m\u001b[0;34m\u001b[0m\u001b[0m\n\u001b[0m",
      "\u001b[0;31mModuleNotFoundError\u001b[0m: No module named 'graphviz'"
     ]
    }
   ],
   "source": [
    "from graphviz import Digraph"
   ]
  },
  {
   "cell_type": "code",
   "execution_count": 14,
   "metadata": {
    "collapsed": true
   },
   "outputs": [],
   "source": [
    "grammar = { 1:{'E':['T','E1']},\n",
    "            2:{'E1':['+','T','E1']},\n",
    "            3:{'E1':['lambda']},\n",
    "            4:{'T':['F','T1']},\n",
    "            5:{'T1':['*','F','T1']},\n",
    "            6:{'T1':['lambda']},\n",
    "            7:{'F':['(','E',')']},\n",
    "            8:{'F':['id']}         \n",
    "          }\n",
    "            "
   ]
  },
  {
   "cell_type": "code",
   "execution_count": 15,
   "metadata": {
    "collapsed": true
   },
   "outputs": [],
   "source": [
    "parsingTable={\n",
    "    'E':{\n",
    "        '(':1,\n",
    "        'id':1,\n",
    "        },\n",
    "    'E1':{\n",
    "        '+':2,\n",
    "        ')':3,\n",
    "        '$':3\n",
    "        },\n",
    "    'T':{\n",
    "        '(':4,\n",
    "        'id':4, \n",
    "        },\n",
    "    'T1':{\n",
    "        '+':6,\n",
    "        '*':5,\n",
    "        ')':6,\n",
    "        '$':6\n",
    "        },\n",
    "    'F':{\n",
    "        '(':7,\n",
    "        'id':8, \n",
    "        },\n",
    "}"
   ]
  },
  {
   "cell_type": "code",
   "execution_count": 107,
   "metadata": {
    "collapsed": true
   },
   "outputs": [],
   "source": [
    "\n",
    "def parsing():\n",
    "    steamOfToken = []\n",
    "    dot = Digraph(comment='parsing tree')\n",
    "    steamOfToken.append('id')\n",
    "    steamOfToken.append('+')\n",
    "    steamOfToken.append('id')\n",
    "    steamOfToken.append('$')\n",
    " \n",
    "    stack = []\n",
    "    stack.append('$')\n",
    "    stack.append('E')\n",
    "    \n",
    "    tree = []\n",
    "    i=1\n",
    "    tree.append('E(0)')\n",
    "    \n",
    "    print(stack)\n",
    "    pointer = 0\n",
    "\n",
    "    while len(stack)!=0 and len(steamOfToken)!=0 :\n",
    "        \n",
    "        tempStack = list(stack)\n",
    "    #     can reduce\n",
    "        if stack[-1] not in parsingTable :\n",
    "\n",
    "            if stack[-1]==steamOfToken[pointer]:\n",
    "                stack.pop()\n",
    "                pointer = pointer + 1 \n",
    "                \n",
    "#       cannot reduce push new grammar\n",
    "        elif stack[-1] in parsingTable:\n",
    "            \n",
    "            if steamOfToken[pointer] in parsingTable[stack[-1]]:\n",
    "                last = stack.pop()\n",
    "                temp = parsingTable[last][steamOfToken[pointer]]\n",
    "                g = grammar[temp]\n",
    "                \n",
    "                \n",
    "                if g[last][0] != 'lambda':\n",
    "                    for s in  reversed(g[last]):\n",
    "                        stack.append(s)\n",
    "                    \n",
    "                    for a in g[last]:\n",
    "                        \n",
    "                        for j in tree:\n",
    "                            if last+'(' in j:\n",
    "                                parent = j\n",
    "#                             print(parent)\n",
    "                        dot.edge(parent,a+'('+str(i)+')',constraint='true')\n",
    "                        \n",
    "                        tree.append(a+'('+str(i)+')')\n",
    "                        i=i+1\n",
    "        \n",
    "            else:\n",
    "                return 'error1'\n",
    "        else:\n",
    "            return 'error2'\n",
    "        \n",
    "        if stack[-1]=='$' and steamOfToken[pointer] == '$':\n",
    "            dot.render('a.gv',view=True)\n",
    "            return 'accept'\n",
    "            \n",
    "#         print('---')\n",
    "        print(stack)"
   ]
  },
  {
   "cell_type": "code",
   "execution_count": 108,
   "metadata": {},
   "outputs": [
    {
     "name": "stdout",
     "output_type": "stream",
     "text": [
      "['$', 'E']\n",
      "['$', 'E1', 'T']\n",
      "['$', 'E1', 'T1', 'F']\n",
      "['$', 'E1', 'T1', 'id']\n",
      "['$', 'E1', 'T1']\n",
      "['$', 'E1']\n",
      "['$', 'E1', 'T', '+']\n",
      "['$', 'E1', 'T']\n",
      "['$', 'E1', 'T1', 'F']\n",
      "['$', 'E1', 'T1', 'id']\n",
      "['$', 'E1', 'T1']\n",
      "['$', 'E1']\n"
     ]
    },
    {
     "data": {
      "text/plain": [
       "'accept'"
      ]
     },
     "execution_count": 108,
     "metadata": {},
     "output_type": "execute_result"
    }
   ],
   "source": [
    "parsing()"
   ]
  },
  {
   "cell_type": "code",
   "execution_count": 8,
   "metadata": {},
   "outputs": [
    {
     "data": {
      "text/plain": [
       "['$']"
      ]
     },
     "execution_count": 8,
     "metadata": {},
     "output_type": "execute_result"
    }
   ],
   "source": [
    "stack"
   ]
  },
  {
   "cell_type": "code",
   "execution_count": 9,
   "metadata": {},
   "outputs": [
    {
     "data": {
      "text/plain": [
       "3"
      ]
     },
     "execution_count": 9,
     "metadata": {},
     "output_type": "execute_result"
    }
   ],
   "source": [
    "a = [1,2,3]\n",
    "a[-1]"
   ]
  },
  {
   "cell_type": "code",
   "execution_count": 12,
   "metadata": {},
   "outputs": [
    {
     "data": {
      "text/plain": [
       "'cluster_edge.gv.pdf'"
      ]
     },
     "execution_count": 12,
     "metadata": {},
     "output_type": "execute_result"
    }
   ],
   "source": [
    "g = Digraph('G', filename='cluster_edge.gv')\n",
    "g.edge('b', 'f')\n",
    "g.edge('b', 'z')\n",
    "\n",
    "g.edge('d', 'e')\n",
    "g.edge('c', 'g')\n",
    "g.edge('c', 'e')\n",
    "g.edge('d', 'h')\n",
    "g.view()"
   ]
  },
  {
   "cell_type": "code",
   "execution_count": 74,
   "metadata": {
    "collapsed": true
   },
   "outputs": [],
   "source": [
    "a=[1,2,3]\n",
    "b=[1,2,3,4]\n",
    "z = set(b)-set(a)"
   ]
  },
  {
   "cell_type": "code",
   "execution_count": 75,
   "metadata": {},
   "outputs": [
    {
     "data": {
      "text/plain": [
       "[4]"
      ]
     },
     "execution_count": 75,
     "metadata": {},
     "output_type": "execute_result"
    }
   ],
   "source": [
    "list(z)"
   ]
  },
  {
   "cell_type": "code",
   "execution_count": null,
   "metadata": {
    "collapsed": true
   },
   "outputs": [],
   "source": []
  }
 ],
 "metadata": {
  "kernelspec": {
   "display_name": "Python 3",
   "language": "python",
   "name": "python3"
  },
  "language_info": {
   "codemirror_mode": {
    "name": "ipython",
    "version": 3
   },
   "file_extension": ".py",
   "mimetype": "text/x-python",
   "name": "python",
   "nbconvert_exporter": "python",
   "pygments_lexer": "ipython3",
   "version": "3.6.1"
  }
 },
 "nbformat": 4,
 "nbformat_minor": 2
}
