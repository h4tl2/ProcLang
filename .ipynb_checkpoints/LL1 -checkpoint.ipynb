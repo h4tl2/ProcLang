{
 "cells": [
  {
   "cell_type": "markdown",
   "metadata": {},
   "source": [
    "# Scanner  "
   ]
  },
  {
   "cell_type": "code",
   "execution_count": 16,
   "metadata": {
    "collapsed": true
   },
   "outputs": [
    {
     "name": "stdout",
     "output_type": "stream",
     "text": [
      "abcdefghijklmnopqrstuvwxyzABCDEFGHIJKLMNOPQRSTUVWXYZ0123456789\n",
      "{(0, ' '): 0, (0, 'f'): 1, (1, 'o'): 2, (2, 'r'): 3, (0, 'i'): 4, (4, 'f'): 5, (0, 'e'): 6, (6, 'l'): 7, (7, 's'): 8, (8, 'e'): 9, (0, '('): 10, (0, ')'): 11, (0, '{'): 12, (0, '}'): 13, (0, '['): 14, (0, ']'): 15, (0, ';'): 16, (0, '>'): 17, (0, '<'): 18, (0, '='): 19, (0, '+'): 20, (0, '*'): 21, (0, '-'): 22}\n",
      "{(0, ' '): 0, (0, 'f'): 1, (1, 'o'): 2, (2, 'r'): 3, (0, 'i'): 4, (4, 'f'): 5, (0, 'e'): 6, (6, 'l'): 7, (7, 's'): 8, (8, 'e'): 9, (0, '('): 10, (0, ')'): 11, (0, '{'): 12, (0, '}'): 13, (0, '['): 14, (0, ']'): 15, (0, ';'): 16, (0, '>'): 17, (0, '<'): 18, (0, '='): 19, (0, '+'): 20, (0, '*'): 21, (0, '-'): 22, (0, 'a'): 99, (0, 'b'): 99, (0, 'c'): 99, (0, 'd'): 99, (0, 'g'): 99, (0, 'h'): 99, (0, 'j'): 99, (0, 'k'): 99, (0, 'l'): 99, (0, 'm'): 99, (0, 'n'): 99, (0, 'o'): 99, (0, 'p'): 99, (0, 'q'): 99, (0, 'r'): 99, (0, 's'): 99, (0, 't'): 99, (0, 'u'): 99, (0, 'v'): 99, (0, 'w'): 99, (0, 'x'): 99, (0, 'y'): 99, (0, 'z'): 99, (0, 'A'): 99, (0, 'B'): 99, (0, 'C'): 99, (0, 'D'): 99, (0, 'E'): 99, (0, 'F'): 99, (0, 'G'): 99, (0, 'H'): 99, (0, 'I'): 99, (0, 'J'): 99, (0, 'K'): 99, (0, 'L'): 99, (0, 'M'): 99, (0, 'N'): 99, (0, 'O'): 99, (0, 'P'): 99, (0, 'Q'): 99, (0, 'R'): 99, (0, 'S'): 99, (0, 'T'): 99, (0, 'U'): 99, (0, 'V'): 99, (0, 'W'): 99, (0, 'X'): 99, (0, 'Y'): 99, (0, 'Z'): 99, (99, 'a'): 99, (99, 'b'): 99, (99, 'c'): 99, (99, 'd'): 99, (99, 'e'): 99, (99, 'f'): 99, (99, 'g'): 99, (99, 'h'): 99, (99, 'i'): 99, (99, 'j'): 99, (99, 'k'): 99, (99, 'l'): 99, (99, 'm'): 99, (99, 'n'): 99, (99, 'o'): 99, (99, 'p'): 99, (99, 'q'): 99, (99, 'r'): 99, (99, 's'): 99, (99, 't'): 99, (99, 'u'): 99, (99, 'v'): 99, (99, 'w'): 99, (99, 'x'): 99, (99, 'y'): 99, (99, 'z'): 99, (99, 'A'): 99, (99, 'B'): 99, (99, 'C'): 99, (99, 'D'): 99, (99, 'E'): 99, (99, 'F'): 99, (99, 'G'): 99, (99, 'H'): 99, (99, 'I'): 99, (99, 'J'): 99, (99, 'K'): 99, (99, 'L'): 99, (99, 'M'): 99, (99, 'N'): 99, (99, 'O'): 99, (99, 'P'): 99, (99, 'Q'): 99, (99, 'R'): 99, (99, 'S'): 99, (99, 'T'): 99, (99, 'U'): 99, (99, 'V'): 99, (99, 'W'): 99, (99, 'X'): 99, (99, 'Y'): 99, (99, 'Z'): 99, (99, '0'): 99, (99, '1'): 99, (99, '2'): 99, (99, '3'): 99, (99, '4'): 99, (99, '5'): 99, (99, '6'): 99, (99, '7'): 99, (99, '8'): 99, (99, '9'): 99, (0, '0'): 23, (0, '1'): 23, (0, '2'): 23, (0, '3'): 23, (0, '4'): 23, (0, '5'): 23, (0, '6'): 23, (0, '7'): 23, (0, '8'): 23, (0, '9'): 23, (22, '0'): 23, (22, '1'): 23, (22, '2'): 23, (22, '3'): 23, (22, '4'): 23, (22, '5'): 23, (22, '6'): 23, (22, '7'): 23, (22, '8'): 23, (22, '9'): 23, (23, '0'): 23, (23, '1'): 23, (23, '2'): 23, (23, '3'): 23, (23, '4'): 23, (23, '5'): 23, (23, '6'): 23, (23, '7'): 23, (23, '8'): 23, (23, '9'): 23, (1, 'a'): 99, (1, 'b'): 99, (1, 'c'): 99, (1, 'd'): 99, (1, 'e'): 99, (1, 'f'): 99, (1, 'g'): 99, (1, 'h'): 99, (1, 'i'): 99, (1, 'j'): 99, (1, 'k'): 99, (1, 'l'): 99, (1, 'm'): 99, (1, 'n'): 99, (1, 'p'): 99, (1, 'q'): 99, (1, 'r'): 99, (1, 's'): 99, (1, 't'): 99, (1, 'u'): 99, (1, 'v'): 99, (1, 'w'): 99, (1, 'x'): 99, (1, 'y'): 99, (1, 'z'): 99, (1, 'A'): 99, (1, 'B'): 99, (1, 'C'): 99, (1, 'D'): 99, (1, 'E'): 99, (1, 'F'): 99, (1, 'G'): 99, (1, 'H'): 99, (1, 'I'): 99, (1, 'J'): 99, (1, 'K'): 99, (1, 'L'): 99, (1, 'M'): 99, (1, 'N'): 99, (1, 'O'): 99, (1, 'P'): 99, (1, 'Q'): 99, (1, 'R'): 99, (1, 'S'): 99, (1, 'T'): 99, (1, 'U'): 99, (1, 'V'): 99, (1, 'W'): 99, (1, 'X'): 99, (1, 'Y'): 99, (1, 'Z'): 99, (1, '0'): 99, (1, '1'): 99, (1, '2'): 99, (1, '3'): 99, (1, '4'): 99, (1, '5'): 99, (1, '6'): 99, (1, '7'): 99, (1, '8'): 99, (1, '9'): 99, (2, 'a'): 99, (2, 'b'): 99, (2, 'c'): 99, (2, 'd'): 99, (2, 'e'): 99, (2, 'f'): 99, (2, 'g'): 99, (2, 'h'): 99, (2, 'i'): 99, (2, 'j'): 99, (2, 'k'): 99, (2, 'l'): 99, (2, 'm'): 99, (2, 'n'): 99, (2, 'o'): 99, (2, 'p'): 99, (2, 'q'): 99, (2, 's'): 99, (2, 't'): 99, (2, 'u'): 99, (2, 'v'): 99, (2, 'w'): 99, (2, 'x'): 99, (2, 'y'): 99, (2, 'z'): 99, (2, 'A'): 99, (2, 'B'): 99, (2, 'C'): 99, (2, 'D'): 99, (2, 'E'): 99, (2, 'F'): 99, (2, 'G'): 99, (2, 'H'): 99, (2, 'I'): 99, (2, 'J'): 99, (2, 'K'): 99, (2, 'L'): 99, (2, 'M'): 99, (2, 'N'): 99, (2, 'O'): 99, (2, 'P'): 99, (2, 'Q'): 99, (2, 'R'): 99, (2, 'S'): 99, (2, 'T'): 99, (2, 'U'): 99, (2, 'V'): 99, (2, 'W'): 99, (2, 'X'): 99, (2, 'Y'): 99, (2, 'Z'): 99, (2, '0'): 99, (2, '1'): 99, (2, '2'): 99, (2, '3'): 99, (2, '4'): 99, (2, '5'): 99, (2, '6'): 99, (2, '7'): 99, (2, '8'): 99, (2, '9'): 99, (3, 'a'): 99, (3, 'b'): 99, (3, 'c'): 99, (3, 'd'): 99, (3, 'e'): 99, (3, 'f'): 99, (3, 'g'): 99, (3, 'h'): 99, (3, 'i'): 99, (3, 'j'): 99, (3, 'k'): 99, (3, 'l'): 99, (3, 'm'): 99, (3, 'n'): 99, (3, 'o'): 99, (3, 'p'): 99, (3, 'q'): 99, (3, 'r'): 99, (3, 's'): 99, (3, 't'): 99, (3, 'u'): 99, (3, 'v'): 99, (3, 'w'): 99, (3, 'x'): 99, (3, 'y'): 99, (3, 'z'): 99, (3, 'A'): 99, (3, 'B'): 99, (3, 'C'): 99, (3, 'D'): 99, (3, 'E'): 99, (3, 'F'): 99, (3, 'G'): 99, (3, 'H'): 99, (3, 'I'): 99, (3, 'J'): 99, (3, 'K'): 99, (3, 'L'): 99, (3, 'M'): 99, (3, 'N'): 99, (3, 'O'): 99, (3, 'P'): 99, (3, 'Q'): 99, (3, 'R'): 99, (3, 'S'): 99, (3, 'T'): 99, (3, 'U'): 99, (3, 'V'): 99, (3, 'W'): 99, (3, 'X'): 99, (3, 'Y'): 99, (3, 'Z'): 99, (3, '0'): 99, (3, '1'): 99, (3, '2'): 99, (3, '3'): 99, (3, '4'): 99, (3, '5'): 99, (3, '6'): 99, (3, '7'): 99, (3, '8'): 99, (3, '9'): 99, (4, 'a'): 99, (4, 'b'): 99, (4, 'c'): 99, (4, 'd'): 99, (4, 'e'): 99, (4, 'g'): 99, (4, 'h'): 99, (4, 'i'): 99, (4, 'j'): 99, (4, 'k'): 99, (4, 'l'): 99, (4, 'm'): 99, (4, 'n'): 99, (4, 'o'): 99, (4, 'p'): 99, (4, 'q'): 99, (4, 'r'): 99, (4, 's'): 99, (4, 't'): 99, (4, 'u'): 99, (4, 'v'): 99, (4, 'w'): 99, (4, 'x'): 99, (4, 'y'): 99, (4, 'z'): 99, (4, 'A'): 99, (4, 'B'): 99, (4, 'C'): 99, (4, 'D'): 99, (4, 'E'): 99, (4, 'F'): 99, (4, 'G'): 99, (4, 'H'): 99, (4, 'I'): 99, (4, 'J'): 99, (4, 'K'): 99, (4, 'L'): 99, (4, 'M'): 99, (4, 'N'): 99, (4, 'O'): 99, (4, 'P'): 99, (4, 'Q'): 99, (4, 'R'): 99, (4, 'S'): 99, (4, 'T'): 99, (4, 'U'): 99, (4, 'V'): 99, (4, 'W'): 99, (4, 'X'): 99, (4, 'Y'): 99, (4, 'Z'): 99, (4, '0'): 99, (4, '1'): 99, (4, '2'): 99, (4, '3'): 99, (4, '4'): 99, (4, '5'): 99, (4, '6'): 99, (4, '7'): 99, (4, '8'): 99, (4, '9'): 99, (5, 'a'): 99, (5, 'b'): 99, (5, 'c'): 99, (5, 'd'): 99, (5, 'e'): 99, (5, 'f'): 99, (5, 'g'): 99, (5, 'h'): 99, (5, 'i'): 99, (5, 'j'): 99, (5, 'k'): 99, (5, 'l'): 99, (5, 'm'): 99, (5, 'n'): 99, (5, 'o'): 99, (5, 'p'): 99, (5, 'q'): 99, (5, 'r'): 99, (5, 's'): 99, (5, 't'): 99, (5, 'u'): 99, (5, 'v'): 99, (5, 'w'): 99, (5, 'x'): 99, (5, 'y'): 99, (5, 'z'): 99, (5, 'A'): 99, (5, 'B'): 99, (5, 'C'): 99, (5, 'D'): 99, (5, 'E'): 99, (5, 'F'): 99, (5, 'G'): 99, (5, 'H'): 99, (5, 'I'): 99, (5, 'J'): 99, (5, 'K'): 99, (5, 'L'): 99, (5, 'M'): 99, (5, 'N'): 99, (5, 'O'): 99, (5, 'P'): 99, (5, 'Q'): 99, (5, 'R'): 99, (5, 'S'): 99, (5, 'T'): 99, (5, 'U'): 99, (5, 'V'): 99, (5, 'W'): 99, (5, 'X'): 99, (5, 'Y'): 99, (5, 'Z'): 99, (5, '0'): 99, (5, '1'): 99, (5, '2'): 99, (5, '3'): 99, (5, '4'): 99, (5, '5'): 99, (5, '6'): 99, (5, '7'): 99, (5, '8'): 99, (5, '9'): 99, (6, 'a'): 99, (6, 'b'): 99, (6, 'c'): 99, (6, 'd'): 99, (6, 'e'): 99, (6, 'f'): 99, (6, 'g'): 99, (6, 'h'): 99, (6, 'i'): 99, (6, 'j'): 99, (6, 'k'): 99, (6, 'm'): 99, (6, 'n'): 99, (6, 'o'): 99, (6, 'p'): 99, (6, 'q'): 99, (6, 'r'): 99, (6, 's'): 99, (6, 't'): 99, (6, 'u'): 99, (6, 'v'): 99, (6, 'w'): 99, (6, 'x'): 99, (6, 'y'): 99, (6, 'z'): 99, (6, 'A'): 99, (6, 'B'): 99, (6, 'C'): 99, (6, 'D'): 99, (6, 'E'): 99, (6, 'F'): 99, (6, 'G'): 99, (6, 'H'): 99, (6, 'I'): 99, (6, 'J'): 99, (6, 'K'): 99, (6, 'L'): 99, (6, 'M'): 99, (6, 'N'): 99, (6, 'O'): 99, (6, 'P'): 99, (6, 'Q'): 99, (6, 'R'): 99, (6, 'S'): 99, (6, 'T'): 99, (6, 'U'): 99, (6, 'V'): 99, (6, 'W'): 99, (6, 'X'): 99, (6, 'Y'): 99, (6, 'Z'): 99, (6, '0'): 99, (6, '1'): 99, (6, '2'): 99, (6, '3'): 99, (6, '4'): 99, (6, '5'): 99, (6, '6'): 99, (6, '7'): 99, (6, '8'): 99, (6, '9'): 99, (7, 'a'): 99, (7, 'b'): 99, (7, 'c'): 99, (7, 'd'): 99, (7, 'e'): 99, (7, 'f'): 99, (7, 'g'): 99, (7, 'h'): 99, (7, 'i'): 99, (7, 'j'): 99, (7, 'k'): 99, (7, 'l'): 99, (7, 'm'): 99, (7, 'n'): 99, (7, 'o'): 99, (7, 'p'): 99, (7, 'q'): 99, (7, 'r'): 99, (7, 't'): 99, (7, 'u'): 99, (7, 'v'): 99, (7, 'w'): 99, (7, 'x'): 99, (7, 'y'): 99, (7, 'z'): 99, (7, 'A'): 99, (7, 'B'): 99, (7, 'C'): 99, (7, 'D'): 99, (7, 'E'): 99, (7, 'F'): 99, (7, 'G'): 99, (7, 'H'): 99, (7, 'I'): 99, (7, 'J'): 99, (7, 'K'): 99, (7, 'L'): 99, (7, 'M'): 99, (7, 'N'): 99, (7, 'O'): 99, (7, 'P'): 99, (7, 'Q'): 99, (7, 'R'): 99, (7, 'S'): 99, (7, 'T'): 99, (7, 'U'): 99, (7, 'V'): 99, (7, 'W'): 99, (7, 'X'): 99, (7, 'Y'): 99, (7, 'Z'): 99, (7, '0'): 99, (7, '1'): 99, (7, '2'): 99, (7, '3'): 99, (7, '4'): 99, (7, '5'): 99, (7, '6'): 99, (7, '7'): 99, (7, '8'): 99, (7, '9'): 99, (8, 'a'): 99, (8, 'b'): 99, (8, 'c'): 99, (8, 'd'): 99, (8, 'f'): 99, (8, 'g'): 99, (8, 'h'): 99, (8, 'i'): 99, (8, 'j'): 99, (8, 'k'): 99, (8, 'l'): 99, (8, 'm'): 99, (8, 'n'): 99, (8, 'o'): 99, (8, 'p'): 99, (8, 'q'): 99, (8, 'r'): 99, (8, 's'): 99, (8, 't'): 99, (8, 'u'): 99, (8, 'v'): 99, (8, 'w'): 99, (8, 'x'): 99, (8, 'y'): 99, (8, 'z'): 99, (8, 'A'): 99, (8, 'B'): 99, (8, 'C'): 99, (8, 'D'): 99, (8, 'E'): 99, (8, 'F'): 99, (8, 'G'): 99, (8, 'H'): 99, (8, 'I'): 99, (8, 'J'): 99, (8, 'K'): 99, (8, 'L'): 99, (8, 'M'): 99, (8, 'N'): 99, (8, 'O'): 99, (8, 'P'): 99, (8, 'Q'): 99, (8, 'R'): 99, (8, 'S'): 99, (8, 'T'): 99, (8, 'U'): 99, (8, 'V'): 99, (8, 'W'): 99, (8, 'X'): 99, (8, 'Y'): 99, (8, 'Z'): 99, (8, '0'): 99, (8, '1'): 99, (8, '2'): 99, (8, '3'): 99, (8, '4'): 99, (8, '5'): 99, (8, '6'): 99, (8, '7'): 99, (8, '8'): 99, (8, '9'): 99, (9, 'a'): 99, (9, 'b'): 99, (9, 'c'): 99, (9, 'd'): 99, (9, 'e'): 99, (9, 'f'): 99, (9, 'g'): 99, (9, 'h'): 99, (9, 'i'): 99, (9, 'j'): 99, (9, 'k'): 99, (9, 'l'): 99, (9, 'm'): 99, (9, 'n'): 99, (9, 'o'): 99, (9, 'p'): 99, (9, 'q'): 99, (9, 'r'): 99, (9, 's'): 99, (9, 't'): 99, (9, 'u'): 99, (9, 'v'): 99, (9, 'w'): 99, (9, 'x'): 99, (9, 'y'): 99, (9, 'z'): 99, (9, 'A'): 99, (9, 'B'): 99, (9, 'C'): 99, (9, 'D'): 99, (9, 'E'): 99, (9, 'F'): 99, (9, 'G'): 99, (9, 'H'): 99, (9, 'I'): 99, (9, 'J'): 99, (9, 'K'): 99, (9, 'L'): 99, (9, 'M'): 99, (9, 'N'): 99, (9, 'O'): 99, (9, 'P'): 99, (9, 'Q'): 99, (9, 'R'): 99, (9, 'S'): 99, (9, 'T'): 99, (9, 'U'): 99, (9, 'V'): 99, (9, 'W'): 99, (9, 'X'): 99, (9, 'Y'): 99, (9, 'Z'): 99, (9, '0'): 99, (9, '1'): 99, (9, '2'): 99, (9, '3'): 99, (9, '4'): 99, (9, '5'): 99, (9, '6'): 99, (9, '7'): 99, (9, '8'): 99, (9, '9'): 99}\n"
     ]
    }
   ],
   "source": [
    "### create DFA\n",
    "## remain from char/digit meet other punc\n",
    "#state12 = dict({x:99 for x in LetterAndDigit.replace('f','')})\n",
    "import string\n",
    "LD = string.ascii_lowercase + string.ascii_uppercase + \"0123456789\"\n",
    "digits = \"0123456789\"\n",
    "chars = string.ascii_lowercase + string.ascii_uppercase\n",
    "print(LD)\n",
    "test = \"var = 1\"\n",
    "DFADict = {\n",
    "    #state 0 with\n",
    "    (0, ' '): 0,\n",
    "    (0, 'f'): 1,\n",
    "    (1, 'o'): 2,\n",
    "    #Other choice from stage 1 will add by state_f\n",
    "    (2, 'r'): 3, # return for else ?? choice state_for\n",
    "    #Other choice from stage 2 will add by state_fo\n",
    "    (0, 'i'): 4,\n",
    "    #Other choice from stage 4 will add by state_i\n",
    "    (4, 'f'): 5, #return if\n",
    "    (0, 'e'): 6,\n",
    "    #Other choice from stage 6 will add by state_e\n",
    "    (6, 'l'): 7,\n",
    "    #Other choice from stage 7 will add by state_el\n",
    "    (7, 's'): 8,\n",
    "    #Other choice from stage 8 will add by state_els\n",
    "    (8, 'e'): 9, #return else\n",
    "    (0, '('): 10, #return LPAREN\n",
    "    (0, ')'): 11, #return RPAREN\n",
    "    (0, '{'): 12, #return LCURLBRAC\n",
    "    (0, '}'): 13, #return RCURLBRAC\n",
    "    (0, '['): 14, #return LBRAC\n",
    "    (0, ']'): 15, #return RBRAC\n",
    "    (0, ';'): 16, #return semicolon\n",
    "    (0, '>'): 17, #return GT\n",
    "    (0, '<'): 18, #return LT\n",
    "    (0, '='): 19, #return EQ\n",
    "    (0, '+'): 20, #return add\n",
    "    (0, '*'): 21, #return mul\n",
    "    (0, '-'): 22, #22+[0-9]>>23(loop) return digit\n",
    "    #return var \n",
    "    #0+[a-z,A-Z]>>99+[a-z,A-Z,0-9]>>99(loop)\n",
    "    #return digit\n",
    "    #0+[0-9]>>23+[0-9]>>23(loop)\n",
    "}\n",
    "print(DFADict)\n",
    "#Choice state_0 to var\n",
    "state_0v = dict({(0, x):99 for x in chars})\n",
    "state_0v.pop((0,'f'), None)\n",
    "state_0v.pop((0,'i'),None)\n",
    "state_0v.pop((0,'e'),None)\n",
    "DFADict.update(state_0v)\n",
    "\n",
    "#state_99 >> +[a-z,A-Z,0-9]\n",
    "state_99 = dict({(99, x):99 for x in LD})\n",
    "DFADict.update(state_99)\n",
    "\n",
    "#Choice state_0 to digits\n",
    "state_0d = dict({(0, x):23 for x in digits})\n",
    "DFADict.update(state_0d)\n",
    "#Choice state_negative to digits\n",
    "state_neg = dict({(22, x):23 for x in digits})\n",
    "DFADict.update(state_neg)\n",
    "#state_23 >> +[0-9]\n",
    "state_23 = dict({(23, x):23 for x in digits})\n",
    "DFADict.update(state_23)\n",
    "\n",
    "#Choice state_f\n",
    "state_f = dict({(1, x):99 for x in LD})\n",
    "state_f.pop((1,'o'), None)\n",
    "DFADict.update(state_f)\n",
    "#Choice state_fo\n",
    "state_fo = dict({(2, x):99 for x in LD})\n",
    "state_fo.pop((2,'r'), None)\n",
    "DFADict.update(state_fo)\n",
    "\n",
    "#Choice state_for to var\n",
    "state_for = dict({(3, x):99 for x in LD})\n",
    "DFADict.update(state_for)\n",
    "\n",
    "#Choice state_i\n",
    "state_i = dict({(4, x):99 for x in LD})\n",
    "state_i.pop((4,'f'), None)\n",
    "#print(state_i)\n",
    "DFADict.update(state_i)\n",
    "#DFADict.update((4,'f'), 5)\n",
    "\n",
    "#Choice state_if to var\n",
    "state_if = dict({(5, x):99 for x in LD})\n",
    "DFADict.update(state_if)\n",
    "\n",
    "#Choice state_e\n",
    "state_e = dict({(6, x):99 for x in LD})\n",
    "state_e.pop((6,'l'), None)\n",
    "DFADict.update(state_e)\n",
    "#Choice state_el\n",
    "state_el = dict({(7, x):99 for x in LD})\n",
    "state_el.pop((7,'s'), None)\n",
    "DFADict.update(state_el)\n",
    "#Choice state_els\n",
    "state_els = dict({(8, x):99 for x in LD})\n",
    "state_els.pop((8,'e'), None)\n",
    "DFADict.update(state_els)\n",
    "#Choice state_else to var\n",
    "state_else = dict({(9, x):99 for x in LD})\n",
    "DFADict.update(state_else)\n",
    "\n",
    "print (DFADict)"
   ]
  },
  {
   "cell_type": "code",
   "execution_count": 18,
   "metadata": {},
   "outputs": [
    {
     "name": "stdout",
     "output_type": "stream",
     "text": [
      "for(x=10;x<20;x=x+1){j=-5;}\n",
      "[['for', 3], ['(', 10], ['x', 99], ['=', 19], ['10', 23], [';', 16], ['x', 99], ['<', 18], ['20', 23], [';', 16], ['x', 99], ['=', 19], ['x', 99], ['+', 20], ['1', 23], [')', 11], ['{', 12], ['j', 99], ['=', 19], ['-5', 23], [';', 16], ['}', 13]]\n",
      "\n",
      "[['for', 'for'], ['(', '('], ['x', 'var'], ['=', '='], ['10', 'num'], [';', ';'], ['x', 'var'], ['<', '<'], ['20', 'num'], [';', ';'], ['x', 'var'], ['=', '='], ['x', 'var'], ['+', '+'], ['1', 'num'], [')', ')'], ['{', '{'], ['j', 'var'], ['=', '='], ['-5', 'num'], [';', ';'], ['}', '}']]\n"
     ]
    }
   ],
   "source": [
    "#use\n",
    "#Test Scanner\n",
    "test = \"for(x=10;x<20;x=x+1){j=-5;}\"\n",
    "pointer = 0\n",
    "curState = 0\n",
    "streamOfToken = [[]]\n",
    "numToken = 0\n",
    "lookahead = 1\n",
    "word = ''\n",
    "text = test + '$'\n",
    "symbol = ''\n",
    "print(test)\n",
    "text\n",
    "while pointer < len(text) and text[pointer] != '$':\n",
    "    symbol = text[pointer]\n",
    "    if symbol == ' ' :\n",
    "        curState = 0\n",
    "        pointer = pointer+1\n",
    "        lookahead = lookahead+1\n",
    "    elif (curState,symbol) not in DFADict:\n",
    "        curState = 0\n",
    "    else:\n",
    "        nextstate_sym = DFADict[(curState,symbol)]\n",
    "        curState = nextstate_sym\n",
    "        pointer = pointer+1\n",
    "        word = word+symbol\n",
    "        if (nextstate_sym,text[lookahead]) not in DFADict:\n",
    "            streamOfToken[numToken].append(word)\n",
    "            streamOfToken[numToken].append(nextstate_sym)\n",
    "            if(text[lookahead]!='$'):\n",
    "                streamOfToken.append([])\n",
    "            numToken+=1\n",
    "            word=''\n",
    "        lookahead = lookahead+1\n",
    "print(streamOfToken)\n",
    "print('')\n",
    "finalStateDict = {3:\"for\" ,5:\"if\" ,9:\"else\" ,10:\"(\",11:\")\",12:\"{\",13:\"}\",14:\"[\",15:\"]\",16:\";\",17:\">\",18:\"<\",19:\"=\",20:\"+\",21:\"*\",23:\"num\",99:\"var\"}\n",
    "for x in streamOfToken:\n",
    "    x[1] = finalStateDict[x[1]]\n",
    "print(streamOfToken)"
   ]
  },
  {
   "cell_type": "code",
   "execution_count": 21,
   "metadata": {
    "collapsed": true
   },
   "outputs": [
    {
     "name": "stdout",
     "output_type": "stream",
     "text": [
      "for\n",
      "(\n",
      "var\n",
      "=\n",
      "num\n",
      ";\n",
      "var\n",
      "<\n",
      "num\n",
      ";\n",
      "var\n",
      "=\n",
      "var\n",
      "+\n",
      "num\n",
      ")\n",
      "{\n",
      "var\n",
      "=\n",
      "num\n",
      ";\n",
      "}\n"
     ]
    }
   ],
   "source": [
    "#preprocess streamOfToken\n",
    "in_token = []\n",
    "for eachToken in streamOfToken:\n",
    "    print(eachToken[1])\n",
    "    in_token.append(eachToken[1])\n",
    "    "
   ]
  },
  {
   "cell_type": "markdown",
   "metadata": {},
   "source": [
    "# 1  \n",
    "```Push the start symbol into the stack.\n",
    "WHILE the stack and the stream of tokens are not empty\n",
    "(i.e., $ is not on top of stack & the next input token is not $) SWITCH (Top of stack, next token)\n",
    "CASE (terminal a, a):\n",
    "Pop stack and get the next token\n",
    "CASE (nonterminal A, terminal a):\n",
    "IF the parsing table entry M[A, a] is not empty\n",
    "THEN Get A →X1 X2 ... Xn from the parsing table entry M[A, a] Pop stack\n",
    "Push Xn ... X2 X1 into stack in that order\n",
    "ELSE Error\n",
    "CASE ($,$): Accept\n",
    "OTHER: Error```stack = []"
   ]
  },
  {
   "cell_type": "markdown",
   "metadata": {},
   "source": [
    "# 2  \n",
    "```push S$ /* S is start symbol */\n",
    "while Stack not empty\n",
    "    X := pop(Stack)\n",
    "    a := peek at next input “token” /* EOF => $ */\n",
    "    if X is terminal or $\n",
    "        If X==a, read token a else abort;\n",
    "    else look at PREDICT(X, a) /* X is nonterminal*/\n",
    "        Empty : abort\n",
    "        rule X → α : push α\n",
    "If not at end of input, Abort else Accept```"
   ]
  },
  {
   "cell_type": "code",
   "execution_count": 22,
   "metadata": {
    "collapsed": true
   },
   "outputs": [
    {
     "data": {
      "text/plain": [
       "['for',\n",
       " '(',\n",
       " 'var',\n",
       " '=',\n",
       " 'num',\n",
       " ';',\n",
       " 'var',\n",
       " '<',\n",
       " 'num',\n",
       " ';',\n",
       " 'var',\n",
       " '=',\n",
       " 'var',\n",
       " '+',\n",
       " 'num',\n",
       " ')',\n",
       " '{',\n",
       " 'var',\n",
       " '=',\n",
       " 'num',\n",
       " ';',\n",
       " '}']"
      ]
     },
     "execution_count": 22,
     "metadata": {},
     "output_type": "execute_result"
    }
   ],
   "source": [
    "in_token"
   ]
  },
  {
   "cell_type": "code",
   "execution_count": 6,
   "metadata": {},
   "outputs": [
    {
     "data": {
      "text/plain": [
       "1"
      ]
     },
     "execution_count": 6,
     "metadata": {},
     "output_type": "execute_result"
    }
   ],
   "source": [
    "\n",
    "stack.append('$','S')\n",
    "while (len(stack) > 0 and len(in_token > 0):\n",
    "    x = stack.pop()\n",
    "    a = in_token[-1]\n",
    "    if T.count(x)>0:\n",
    "       if x==a:\n",
    "           tempA = a.pop()\n",
    "       else:\n",
    "           raise Exception('Abort')\n",
    "    else:\n",
    "       if \n",
    "       \n",
    "    \n",
    "    \n"
   ]
  },
  {
   "cell_type": "code",
   "execution_count": 15,
   "metadata": {
    "collapsed": true
   },
   "outputs": [],
   "source": [
    "# clear input\n",
    "in_token = []\n",
    "stack = []\n",
    "T = [] #set of terminals\n",
    "N = [] #set of non-terminals"
   ]
  },
  {
   "cell_type": "code",
   "execution_count": 12,
   "metadata": {},
   "outputs": [],
   "source": [
    "# harden\n",
    "N.append(['S','ST','var','array','const','block','aST','aST2','ifST','forST','rlEXP',\"rlEXP'\",'rlEXP2','OP','arEXP',\"arEXP'\",'term',\"term'\",\"factor\"])"
   ]
  },
  {
   "cell_type": "code",
   "execution_count": 13,
   "metadata": {
    "collapsed": true
   },
   "outputs": [],
   "source": [
    "production = {\n",
    "    1: {'S':['ST','S']},\n",
    "    2: {'S':['empty']},\n",
    "    3: {'ST':['aST']},\n",
    "    4: {'ST':['ifST']},\n",
    "    5: {'ST':['forST']},\n",
    "    6: {'ST':['block']},\n",
    "    7: {'va':['var','array']},\n",
    "    8: {'array':['empty']},\n",
    "    9: {'array':['[','arEXP','array']},\n",
    "    10: {'block':['{','ST','}']},\n",
    "    11: {'aST':['va','=','arEXP',';']},\n",
    "    12: {'aST2':['va','=','arEXP']},\n",
    "    13: {'ifST':['if','(','rlEXP',')','block','else','block']},\n",
    "    14: {'forST':['for','(','aST2',';','rlEXP',';','aST2',')','block']},\n",
    "    15: {'rlEXP':['rlEXP2',\"rlEXP'\"]},\n",
    "    16: {\"rlEXP'\":['OP','rlEXP2']},\n",
    "    17: {\"rlEXP'\":['empty']},\n",
    "    18: {'rlEXP2':['(','rlEXP',')']},\n",
    "    19: {'rlEXP2':['arEXP']},\n",
    "    20: {'OP':['<']},\n",
    "    21: {'OP':['>']},\n",
    "    22: {'arEXP':['term',\"arEXP'\"]},\n",
    "    23: {\"arEXP'\":['+','term',\"arEXP'\"]},\n",
    "    24: {\"arEXP'\":['empty']},\n",
    "    25: {'term':['factor',\"term'\"]},\n",
    "    26: {\"term'\":['*','factor',\"term'\"]},\n",
    "    27: {\"term'\":['empty']},\n",
    "    28: {'factor':['(','arEXP',')']},\n",
    "    29: {'factor':['num']},\n",
    "    30: {'factor':['va']}\n",
    "}"
   ]
  },
  {
   "cell_type": "code",
   "execution_count": 14,
   "metadata": {
    "collapsed": true
   },
   "outputs": [],
   "source": [
    "ParsingTable = {\n",
    "    'S':{\n",
    "        'var':1,\n",
    "        '{':1,\n",
    "        'if':1,\n",
    "        'for':1,\n",
    "        '$':2\n",
    "    },\n",
    "    'ST':{\n",
    "        'var':3,\n",
    "        '{':6,\n",
    "        'if':4,\n",
    "        'for':5\n",
    "    },\n",
    "    'va':{\n",
    "        'var':7   \n",
    "    },\n",
    "    'array':{\n",
    "        '[':9,\n",
    "        ']':8,\n",
    "        '=':8,\n",
    "        ';':8,\n",
    "        ')':8,\n",
    "        '<':8,\n",
    "        '>':8,\n",
    "        '+':8,\n",
    "        '*':8\n",
    "    },\n",
    "    'block':{\n",
    "        '{':10\n",
    "    },\n",
    "    'aST':{\n",
    "        'var':11\n",
    "    },\n",
    "    'aST2':{\n",
    "        'var':12\n",
    "    },\n",
    "    'ifST':{\n",
    "        'if':13\n",
    "    },\n",
    "    'forST':{\n",
    "        'for':14\n",
    "    },\n",
    "    'rlEXP':{\n",
    "        'var':15,\n",
    "        '(':15,\n",
    "        'num':15\n",
    "    },\n",
    "    \"rlEXP'\":{\n",
    "        ';':17,\n",
    "        ')':17,\n",
    "        '<':16,\n",
    "        '>':16\n",
    "    },\n",
    "    'rlEXP2':{\n",
    "        'var':19,\n",
    "        '(':19,\n",
    "        'num':19\n",
    "    },\n",
    "    'OP':{\n",
    "        '<':20,\n",
    "        '>':21\n",
    "    },\n",
    "    'arEXP':{\n",
    "        'var':22,\n",
    "        '(':22,\n",
    "        'num':22\n",
    "    },\n",
    "    \"arEXP'\":{\n",
    "        ']':24,\n",
    "        ';':24,\n",
    "        ')':24,\n",
    "        '<':24,\n",
    "        '>':24,\n",
    "        '+':23,\n",
    "    },\n",
    "    'term':{\n",
    "        'var':25,\n",
    "        '(':25,\n",
    "        'num':25\n",
    "    },\n",
    "    \"term'\":{\n",
    "        ']':27,\n",
    "        ';':27,\n",
    "        ')':27,\n",
    "        '<':27,\n",
    "        '>':27,\n",
    "        '+':27,\n",
    "        '*':26\n",
    "    },\n",
    "    \"factor\":{\n",
    "        'var':30,\n",
    "        '(':28,\n",
    "        'num':29\n",
    "    }\n",
    "}"
   ]
  },
  {
   "cell_type": "code",
   "execution_count": null,
   "metadata": {
    "collapsed": true
   },
   "outputs": [],
   "source": []
  }
 ],
 "metadata": {
  "kernelspec": {
   "display_name": "Python 3",
   "language": "python",
   "name": "python3"
  },
  "language_info": {
   "codemirror_mode": {
    "name": "ipython",
    "version": 3
   },
   "file_extension": ".py",
   "mimetype": "text/x-python",
   "name": "python",
   "nbconvert_exporter": "python",
   "pygments_lexer": "ipython3",
   "version": "3.6.1"
  }
 },
 "nbformat": 4,
 "nbformat_minor": 2
}
